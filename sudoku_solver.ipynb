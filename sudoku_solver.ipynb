{
 "metadata": {
  "language_info": {
   "codemirror_mode": {
    "name": "ipython",
    "version": 3
   },
   "file_extension": ".py",
   "mimetype": "text/x-python",
   "name": "python",
   "nbconvert_exporter": "python",
   "pygments_lexer": "ipython3",
   "version": "3.8.6-final"
  },
  "orig_nbformat": 2,
  "kernelspec": {
   "name": "python3",
   "display_name": "Python 3.8.6 64-bit",
   "metadata": {
    "interpreter": {
     "hash": "de0691b9b4162a018d9cf464d16e088981b9bd9cf8e3a46dde4c669df41bd453"
    }
   }
  }
 },
 "nbformat": 4,
 "nbformat_minor": 2,
 "cells": [
  {
   "source": [
    "1.Sudoku Solver\n",
    "-\n",
    "Generation of Sudoku:\n",
    "-------------------------\n",
    "\n",
    "Firstly, the random generation of empty slots of the soduku are done by taking into consideration of possible elements by avoiding conflicts with row, column, and 3x3 boxes.\n",
    "\n",
    "If our set becomes empty then only row conflicts are taken into consideration and randomly elements are generated"
   ],
   "cell_type": "markdown",
   "metadata": {}
  },
  {
   "cell_type": "code",
   "execution_count": 37,
   "metadata": {},
   "outputs": [],
   "source": [
    "import random \n",
    "def generate_sudoku(sudoku):\n",
    "    a = [[] for i in range(9)]\n",
    "    for i in range(9):\n",
    "        a[i] = list(map(int,sudoku[i]))\n",
    "    # print(a)\n",
    "    for i in range(9):\n",
    "        for j in range(9):\n",
    "            if a[i][j]==0:\n",
    "                s = set()\n",
    "                for k in range(9):\n",
    "                    if i!=k:\n",
    "                        s.add(a[k][j])\n",
    "                    if j!=k:\n",
    "                        s.add(a[i][k])\n",
    "                x = (i//3)*3\n",
    "                y = (j//3)*3\n",
    "                for k in range(3):\n",
    "                    s.update([a[x+k][y],a[x][y+k],a[x+k][y+k]])\n",
    "                s.update([a[x+2][y+1],a[x+1][y+2]])\n",
    "                s = {1,2,3,4,5,6,7,8,9}-s\n",
    "                s = list(s)\n",
    "                if len(s)==0:\n",
    "                    s = set()\n",
    "                    for k in range(9):\n",
    "                        s.add(a[i][k])\n",
    "                    s = {1,2,3,4,5,6,7,8,9}-s\n",
    "                    s = list(s)\n",
    "                a[i][j] = s[random.randint(0, len(s)-1)]\n",
    "    return a "
   ]
  },
  {
   "source": [
    "Fitness Function:\n",
    "----------------\n",
    "\n",
    "The Fitness of the sudoku I have taken is sum of total no of distinct elements in the row, column, 3x3 boxes of the sudoku.\n",
    "A better Sudoku is the one having more Fitness value in this case\n",
    "\n",
    "Therefore this Genetic Algorithm is to increase the Fitness Values of Sudokus"
   ],
   "cell_type": "markdown",
   "metadata": {}
  },
  {
   "cell_type": "code",
   "execution_count": 38,
   "metadata": {},
   "outputs": [],
   "source": [
    "import numpy as np\n",
    "def fitness(sudoku):\n",
    "    def row(sudoku):\n",
    "        fit = 0\n",
    "        for i in range(9):\n",
    "            fit+=len(set(sudoku[i]))\n",
    "        return fit\n",
    "    def col(sudoku):\n",
    "        fit = 0\n",
    "        dup = sudoku.copy()\n",
    "        dup = np.array(dup)\n",
    "        dup = dup.transpose()\n",
    "        for i in range(9):\n",
    "            fit+=len(set(dup[i]))\n",
    "        return fit\n",
    "    def box_3x3(sudoku):\n",
    "        fit = 0\n",
    "        for i in range(0,9,3):\n",
    "            s = set()\n",
    "            for j in range(0,9,3):\n",
    "                s.update([sudoku[i][j],sudoku[i+1][j],sudoku[i+2][j],sudoku[i][j+1],sudoku[i+1][j+1],sudoku[i+2][j+1],sudoku[i][j+2],sudoku[i+1]                          [j+2],sudoku[i+2][j+2]])\n",
    "                fit+=len(s)\n",
    "        return fit\n",
    "    return row(sudoku)+col(sudoku)+box_3x3(sudoku)"
   ]
  },
  {
   "cell_type": "code",
   "execution_count": 39,
   "metadata": {},
   "outputs": [],
   "source": [
    "def fit_list(sudoku_list):\n",
    "    fit = [fitness(sudoku_list[i]) for i in range(10)]\n",
    "    return fit"
   ]
  },
  {
   "source": [
    "Cross Over:\n",
    "------------\n",
    "\n",
    "The Crossover is done by swapping two sudokus half portion on either sides.\n",
    "\n",
    "This is similar to what most of the Genetic Algorithms do. i.e. Crossover through mid-point"
   ],
   "cell_type": "markdown",
   "metadata": {}
  },
  {
   "cell_type": "code",
   "execution_count": 40,
   "metadata": {},
   "outputs": [],
   "source": [
    "def cross_over(sudoku1,sudoku2):\n",
    "    import random\n",
    "    # print(sudoku1,sudoku2)\n",
    "    x, y = sudoku1[:5]+sudoku2[5:], sudoku2[:5]+sudoku1[5:]\n",
    "    # print(x,y)\n",
    "    return [x,y]"
   ]
  },
  {
   "source": [
    "Selection :\n",
    "------------\n",
    "\n",
    "Selection is done randomly, a die is thrown and based on fitness values two sudokus are selected for crossover.\n"
   ],
   "cell_type": "markdown",
   "metadata": {}
  },
  {
   "cell_type": "code",
   "execution_count": 41,
   "metadata": {},
   "outputs": [],
   "source": [
    "def selection(fitnesses):\n",
    "    import random\n",
    "    selects = []\n",
    "    for _ in range(5):\n",
    "        rand_no = random.randint(0,50)\n",
    "        for i in range(10):\n",
    "            if rand_no<=fitnesses[i][1]:\n",
    "                selects.append(fitnesses[i][0])\n",
    "                break\n",
    "            rand_no-=fitnesses[i][1]\n",
    "        last = selects[-1]\n",
    "        while(selects[-1]==last):\n",
    "            rand_no = random.randint(0,99)\n",
    "            for i in range(10):\n",
    "                if rand_no<=fitnesses[i][1]:\n",
    "                    last = fitnesses[i][0]\n",
    "                    break\n",
    "                rand_no-=fitnesses[i][1]\n",
    "        selects.append(last)\n",
    "    return selects\n"
   ]
  },
  {
   "source": [
    "Mutation:\n",
    "-----------\n",
    "\n",
    "Mutation here is also random, a random row is generated again by the help of generate sudoku function.  "
   ],
   "cell_type": "markdown",
   "metadata": {}
  },
  {
   "cell_type": "code",
   "execution_count": 42,
   "metadata": {},
   "outputs": [],
   "source": [
    "def mutation(sudoku,original):\n",
    "    import random\n",
    "    index = random.randint(0,10)\n",
    "    if index<9:\n",
    "        sudoku[index] = list(map(int, original[index]))\n",
    "        i = index\n",
    "        for j in range(9):\n",
    "            if sudoku[i][j]==0:\n",
    "                s = set()\n",
    "                for k in range(9):\n",
    "                    if i!=k:\n",
    "                        s.add(sudoku[k][j])\n",
    "                    if j!=k:\n",
    "                        s.add(sudoku[i][k])\n",
    "                x = (i//3)*3\n",
    "                y = (j//3)*3\n",
    "                for k in range(3):\n",
    "                    s.update([sudoku[x+k][y],sudoku[x][y+k],sudoku[x+k][y+k]])\n",
    "                s.update([sudoku[x+2][y+1],sudoku[x+1][y+2]])\n",
    "                s = {1,2,3,4,5,6,7,8,9}-s\n",
    "                s = list(s)\n",
    "                if len(s)==0:\n",
    "                    s = set()\n",
    "                    for k in range(9):\n",
    "                        s.add(sudoku[i][k])\n",
    "                    s = {1,2,3,4,5,6,7,8,9}-s\n",
    "                    s = list(s)\n",
    "                sudoku[i][j] = s[random.randint(0, len(s)-1)]\n",
    "    return sudoku"
   ]
  },
  {
   "source": [
    "This function is to print best 5 sudokus in a clear format"
   ],
   "cell_type": "markdown",
   "metadata": {}
  },
  {
   "cell_type": "code",
   "execution_count": 43,
   "metadata": {},
   "outputs": [],
   "source": [
    "def print_sudokus(sudokus_list):\n",
    "    from IPython.display import display, HTML\n",
    "    display(HTML(\"<h1>BEST 5 SUDOKUS -></h1>\"))\n",
    "    for k in range(5):\n",
    "        display(HTML(f\"<h1>sudoku {k+1}</h1>\"))\n",
    "        if fitness(sudokus_list[k])==243:\n",
    "            display(HTML(\"<h2>SOLUTION:</h2>\"))\n",
    "        for i in range(9):\n",
    "            string=\"<tr><td>\" + \"</td><td>\".join(str(sudokus_list[k][i][:]).split()) + \"</td></tr>\"\n",
    "            display(HTML(f\"<table>{string}</table>\"))\n",
    "        print()"
   ]
  },
  {
   "source": [
    "Initial Sudoku:\n",
    "---------------"
   ],
   "cell_type": "markdown",
   "metadata": {}
  },
  {
   "cell_type": "code",
   "execution_count": 44,
   "metadata": {},
   "outputs": [],
   "source": [
    "sudoku = [ \"080000090\",\n",
    "           \"007502800\",\n",
    "           \"600807005\",\n",
    "           \"370080051\",\n",
    "           \"200000008\",\n",
    "           \"950040032\",\n",
    "           \"800104009\",\n",
    "           \"001903600\",\n",
    "           \"040000020\" ]"
   ]
  },
  {
   "source": [
    "Generating 10 sudokus\n",
    "-----------------------"
   ],
   "cell_type": "markdown",
   "metadata": {}
  },
  {
   "cell_type": "code",
   "execution_count": 45,
   "metadata": {},
   "outputs": [],
   "source": [
    "sudokus_list = []\n",
    "for i in range(10):\n",
    "    sudokus_list.append(generate_sudoku(sudoku))"
   ]
  },
  {
   "source": [
    "Exploring Genetic Algorithm for 1000 Times\n",
    "--------------------------------------------"
   ],
   "cell_type": "markdown",
   "metadata": {}
  },
  {
   "cell_type": "code",
   "execution_count": 46,
   "metadata": {},
   "outputs": [],
   "source": [
    "for i in range(1000):\n",
    "    fitness_values = fit_list(sudokus_list)\n",
    "    fitnesses = [[i+1,fitness_values[i]] for i in range(10)]\n",
    "    fitnesses.sort(key=lambda x:-x[1])\n",
    "    selection_values = [round((fitnesses[i][1]*100)/sum(fitness_values)) for i in range(10)]\n",
    "    for i in range(10):\n",
    "        fitnesses[i][1] = selection_values[i]\n",
    "    selects = selection(fitnesses)\n",
    "    for i in range(0,10,2):\n",
    "        sudokus_list[i],sudokus_list[i+1] = cross_over(sudokus_list[i],sudokus_list[i+1])\n",
    "        sudokus_list[i] = mutation(sudokus_list[i],sudoku)\n",
    "        sudokus_list[i+1] = mutation(sudokus_list[i+1],sudoku)\n",
    "    if 243 in fit_list(sudokus_list):\n",
    "        break"
   ]
  },
  {
   "source": [
    "Sorting Sudokus based on fitness values\n",
    "-----------------------------------------"
   ],
   "cell_type": "markdown",
   "metadata": {}
  },
  {
   "cell_type": "code",
   "execution_count": 47,
   "metadata": {},
   "outputs": [],
   "source": [
    "sudokus_list.sort(key=lambda x : fitness(x),reverse=True)"
   ]
  },
  {
   "source": [
    "Printing best 5 sudokus\n",
    "-----------------------"
   ],
   "cell_type": "markdown",
   "metadata": {}
  },
  {
   "cell_type": "code",
   "execution_count": 48,
   "metadata": {},
   "outputs": [
    {
     "output_type": "display_data",
     "data": {
      "text/plain": "<IPython.core.display.HTML object>",
      "text/html": "<h1>BEST 5 SUDOKUS -></h1>"
     },
     "metadata": {}
    },
    {
     "output_type": "display_data",
     "data": {
      "text/plain": "<IPython.core.display.HTML object>",
      "text/html": "<h1>sudoku 1</h1>"
     },
     "metadata": {}
    },
    {
     "output_type": "display_data",
     "data": {
      "text/plain": "<IPython.core.display.HTML object>",
      "text/html": "<h2>SOLUTION:</h2>"
     },
     "metadata": {}
    },
    {
     "output_type": "display_data",
     "data": {
      "text/plain": "<IPython.core.display.HTML object>",
      "text/html": "<table><tr><td>[1,</td><td>8,</td><td>5,</td><td>4,</td><td>3,</td><td>6,</td><td>2,</td><td>9,</td><td>7]</td></tr></table>"
     },
     "metadata": {}
    },
    {
     "output_type": "display_data",
     "data": {
      "text/plain": "<IPython.core.display.HTML object>",
      "text/html": "<table><tr><td>[4,</td><td>3,</td><td>7,</td><td>5,</td><td>9,</td><td>2,</td><td>8,</td><td>1,</td><td>6]</td></tr></table>"
     },
     "metadata": {}
    },
    {
     "output_type": "display_data",
     "data": {
      "text/plain": "<IPython.core.display.HTML object>",
      "text/html": "<table><tr><td>[6,</td><td>9,</td><td>2,</td><td>8,</td><td>1,</td><td>7,</td><td>3,</td><td>4,</td><td>5]</td></tr></table>"
     },
     "metadata": {}
    },
    {
     "output_type": "display_data",
     "data": {
      "text/plain": "<IPython.core.display.HTML object>",
      "text/html": "<table><tr><td>[3,</td><td>7,</td><td>6,</td><td>2,</td><td>8,</td><td>9,</td><td>4,</td><td>5,</td><td>1]</td></tr></table>"
     },
     "metadata": {}
    },
    {
     "output_type": "display_data",
     "data": {
      "text/plain": "<IPython.core.display.HTML object>",
      "text/html": "<table><tr><td>[2,</td><td>1,</td><td>4,</td><td>3,</td><td>7,</td><td>5,</td><td>9,</td><td>6,</td><td>8]</td></tr></table>"
     },
     "metadata": {}
    },
    {
     "output_type": "display_data",
     "data": {
      "text/plain": "<IPython.core.display.HTML object>",
      "text/html": "<table><tr><td>[9,</td><td>5,</td><td>8,</td><td>6,</td><td>4,</td><td>1,</td><td>7,</td><td>3,</td><td>2]</td></tr></table>"
     },
     "metadata": {}
    },
    {
     "output_type": "display_data",
     "data": {
      "text/plain": "<IPython.core.display.HTML object>",
      "text/html": "<table><tr><td>[8,</td><td>6,</td><td>3,</td><td>1,</td><td>2,</td><td>4,</td><td>5,</td><td>7,</td><td>9]</td></tr></table>"
     },
     "metadata": {}
    },
    {
     "output_type": "display_data",
     "data": {
      "text/plain": "<IPython.core.display.HTML object>",
      "text/html": "<table><tr><td>[7,</td><td>2,</td><td>1,</td><td>9,</td><td>5,</td><td>3,</td><td>6,</td><td>8,</td><td>4]</td></tr></table>"
     },
     "metadata": {}
    },
    {
     "output_type": "display_data",
     "data": {
      "text/plain": "<IPython.core.display.HTML object>",
      "text/html": "<table><tr><td>[5,</td><td>4,</td><td>9,</td><td>7,</td><td>6,</td><td>8,</td><td>1,</td><td>2,</td><td>3]</td></tr></table>"
     },
     "metadata": {}
    },
    {
     "output_type": "stream",
     "name": "stdout",
     "text": [
      "\n"
     ]
    },
    {
     "output_type": "display_data",
     "data": {
      "text/plain": "<IPython.core.display.HTML object>",
      "text/html": "<h1>sudoku 2</h1>"
     },
     "metadata": {}
    },
    {
     "output_type": "display_data",
     "data": {
      "text/plain": "<IPython.core.display.HTML object>",
      "text/html": "<table><tr><td>[1,</td><td>8,</td><td>5,</td><td>4,</td><td>3,</td><td>6,</td><td>2,</td><td>9,</td><td>7]</td></tr></table>"
     },
     "metadata": {}
    },
    {
     "output_type": "display_data",
     "data": {
      "text/plain": "<IPython.core.display.HTML object>",
      "text/html": "<table><tr><td>[4,</td><td>9,</td><td>7,</td><td>5,</td><td>1,</td><td>2,</td><td>8,</td><td>6,</td><td>3]</td></tr></table>"
     },
     "metadata": {}
    },
    {
     "output_type": "display_data",
     "data": {
      "text/plain": "<IPython.core.display.HTML object>",
      "text/html": "<table><tr><td>[6,</td><td>3,</td><td>2,</td><td>8,</td><td>9,</td><td>7,</td><td>1,</td><td>4,</td><td>5]</td></tr></table>"
     },
     "metadata": {}
    },
    {
     "output_type": "display_data",
     "data": {
      "text/plain": "<IPython.core.display.HTML object>",
      "text/html": "<table><tr><td>[3,</td><td>7,</td><td>6,</td><td>2,</td><td>8,</td><td>9,</td><td>4,</td><td>5,</td><td>1]</td></tr></table>"
     },
     "metadata": {}
    },
    {
     "output_type": "display_data",
     "data": {
      "text/plain": "<IPython.core.display.HTML object>",
      "text/html": "<table><tr><td>[2,</td><td>1,</td><td>4,</td><td>3,</td><td>6,</td><td>5,</td><td>9,</td><td>7,</td><td>8]</td></tr></table>"
     },
     "metadata": {}
    },
    {
     "output_type": "display_data",
     "data": {
      "text/plain": "<IPython.core.display.HTML object>",
      "text/html": "<table><tr><td>[9,</td><td>5,</td><td>8,</td><td>7,</td><td>4,</td><td>1,</td><td>6,</td><td>3,</td><td>2]</td></tr></table>"
     },
     "metadata": {}
    },
    {
     "output_type": "display_data",
     "data": {
      "text/plain": "<IPython.core.display.HTML object>",
      "text/html": "<table><tr><td>[8,</td><td>6,</td><td>3,</td><td>1,</td><td>2,</td><td>4,</td><td>7,</td><td>5,</td><td>9]</td></tr></table>"
     },
     "metadata": {}
    },
    {
     "output_type": "display_data",
     "data": {
      "text/plain": "<IPython.core.display.HTML object>",
      "text/html": "<table><tr><td>[7,</td><td>2,</td><td>1,</td><td>9,</td><td>5,</td><td>3,</td><td>6,</td><td>8,</td><td>4]</td></tr></table>"
     },
     "metadata": {}
    },
    {
     "output_type": "display_data",
     "data": {
      "text/plain": "<IPython.core.display.HTML object>",
      "text/html": "<table><tr><td>[5,</td><td>4,</td><td>9,</td><td>6,</td><td>7,</td><td>8,</td><td>3,</td><td>2,</td><td>1]</td></tr></table>"
     },
     "metadata": {}
    },
    {
     "output_type": "stream",
     "name": "stdout",
     "text": [
      "\n"
     ]
    },
    {
     "output_type": "display_data",
     "data": {
      "text/plain": "<IPython.core.display.HTML object>",
      "text/html": "<h1>sudoku 3</h1>"
     },
     "metadata": {}
    },
    {
     "output_type": "display_data",
     "data": {
      "text/plain": "<IPython.core.display.HTML object>",
      "text/html": "<table><tr><td>[1,</td><td>8,</td><td>5,</td><td>4,</td><td>3,</td><td>6,</td><td>7,</td><td>9,</td><td>2]</td></tr></table>"
     },
     "metadata": {}
    },
    {
     "output_type": "display_data",
     "data": {
      "text/plain": "<IPython.core.display.HTML object>",
      "text/html": "<table><tr><td>[4,</td><td>9,</td><td>7,</td><td>5,</td><td>1,</td><td>2,</td><td>8,</td><td>6,</td><td>3]</td></tr></table>"
     },
     "metadata": {}
    },
    {
     "output_type": "display_data",
     "data": {
      "text/plain": "<IPython.core.display.HTML object>",
      "text/html": "<table><tr><td>[6,</td><td>3,</td><td>2,</td><td>8,</td><td>9,</td><td>7,</td><td>1,</td><td>4,</td><td>5]</td></tr></table>"
     },
     "metadata": {}
    },
    {
     "output_type": "display_data",
     "data": {
      "text/plain": "<IPython.core.display.HTML object>",
      "text/html": "<table><tr><td>[3,</td><td>7,</td><td>6,</td><td>2,</td><td>8,</td><td>9,</td><td>4,</td><td>5,</td><td>1]</td></tr></table>"
     },
     "metadata": {}
    },
    {
     "output_type": "display_data",
     "data": {
      "text/plain": "<IPython.core.display.HTML object>",
      "text/html": "<table><tr><td>[2,</td><td>1,</td><td>4,</td><td>3,</td><td>6,</td><td>5,</td><td>9,</td><td>7,</td><td>8]</td></tr></table>"
     },
     "metadata": {}
    },
    {
     "output_type": "display_data",
     "data": {
      "text/plain": "<IPython.core.display.HTML object>",
      "text/html": "<table><tr><td>[9,</td><td>5,</td><td>8,</td><td>7,</td><td>4,</td><td>1,</td><td>6,</td><td>3,</td><td>2]</td></tr></table>"
     },
     "metadata": {}
    },
    {
     "output_type": "display_data",
     "data": {
      "text/plain": "<IPython.core.display.HTML object>",
      "text/html": "<table><tr><td>[8,</td><td>6,</td><td>3,</td><td>1,</td><td>2,</td><td>4,</td><td>5,</td><td>7,</td><td>9]</td></tr></table>"
     },
     "metadata": {}
    },
    {
     "output_type": "display_data",
     "data": {
      "text/plain": "<IPython.core.display.HTML object>",
      "text/html": "<table><tr><td>[7,</td><td>2,</td><td>1,</td><td>9,</td><td>5,</td><td>3,</td><td>6,</td><td>8,</td><td>4]</td></tr></table>"
     },
     "metadata": {}
    },
    {
     "output_type": "display_data",
     "data": {
      "text/plain": "<IPython.core.display.HTML object>",
      "text/html": "<table><tr><td>[5,</td><td>4,</td><td>9,</td><td>6,</td><td>7,</td><td>8,</td><td>3,</td><td>2,</td><td>1]</td></tr></table>"
     },
     "metadata": {}
    },
    {
     "output_type": "stream",
     "name": "stdout",
     "text": [
      "\n"
     ]
    },
    {
     "output_type": "display_data",
     "data": {
      "text/plain": "<IPython.core.display.HTML object>",
      "text/html": "<h1>sudoku 4</h1>"
     },
     "metadata": {}
    },
    {
     "output_type": "display_data",
     "data": {
      "text/plain": "<IPython.core.display.HTML object>",
      "text/html": "<table><tr><td>[1,</td><td>8,</td><td>5,</td><td>4,</td><td>3,</td><td>6,</td><td>7,</td><td>9,</td><td>2]</td></tr></table>"
     },
     "metadata": {}
    },
    {
     "output_type": "display_data",
     "data": {
      "text/plain": "<IPython.core.display.HTML object>",
      "text/html": "<table><tr><td>[4,</td><td>9,</td><td>7,</td><td>5,</td><td>1,</td><td>2,</td><td>8,</td><td>6,</td><td>3]</td></tr></table>"
     },
     "metadata": {}
    },
    {
     "output_type": "display_data",
     "data": {
      "text/plain": "<IPython.core.display.HTML object>",
      "text/html": "<table><tr><td>[6,</td><td>3,</td><td>2,</td><td>8,</td><td>9,</td><td>7,</td><td>1,</td><td>4,</td><td>5]</td></tr></table>"
     },
     "metadata": {}
    },
    {
     "output_type": "display_data",
     "data": {
      "text/plain": "<IPython.core.display.HTML object>",
      "text/html": "<table><tr><td>[3,</td><td>7,</td><td>6,</td><td>2,</td><td>8,</td><td>9,</td><td>4,</td><td>5,</td><td>1]</td></tr></table>"
     },
     "metadata": {}
    },
    {
     "output_type": "display_data",
     "data": {
      "text/plain": "<IPython.core.display.HTML object>",
      "text/html": "<table><tr><td>[2,</td><td>1,</td><td>4,</td><td>3,</td><td>6,</td><td>5,</td><td>9,</td><td>7,</td><td>8]</td></tr></table>"
     },
     "metadata": {}
    },
    {
     "output_type": "display_data",
     "data": {
      "text/plain": "<IPython.core.display.HTML object>",
      "text/html": "<table><tr><td>[9,</td><td>5,</td><td>8,</td><td>7,</td><td>4,</td><td>1,</td><td>6,</td><td>3,</td><td>2]</td></tr></table>"
     },
     "metadata": {}
    },
    {
     "output_type": "display_data",
     "data": {
      "text/plain": "<IPython.core.display.HTML object>",
      "text/html": "<table><tr><td>[8,</td><td>6,</td><td>3,</td><td>1,</td><td>2,</td><td>4,</td><td>5,</td><td>7,</td><td>9]</td></tr></table>"
     },
     "metadata": {}
    },
    {
     "output_type": "display_data",
     "data": {
      "text/plain": "<IPython.core.display.HTML object>",
      "text/html": "<table><tr><td>[5,</td><td>2,</td><td>1,</td><td>9,</td><td>7,</td><td>3,</td><td>6,</td><td>8,</td><td>4]</td></tr></table>"
     },
     "metadata": {}
    },
    {
     "output_type": "display_data",
     "data": {
      "text/plain": "<IPython.core.display.HTML object>",
      "text/html": "<table><tr><td>[7,</td><td>4,</td><td>9,</td><td>6,</td><td>5,</td><td>8,</td><td>3,</td><td>2,</td><td>1]</td></tr></table>"
     },
     "metadata": {}
    },
    {
     "output_type": "stream",
     "name": "stdout",
     "text": [
      "\n"
     ]
    },
    {
     "output_type": "display_data",
     "data": {
      "text/plain": "<IPython.core.display.HTML object>",
      "text/html": "<h1>sudoku 5</h1>"
     },
     "metadata": {}
    },
    {
     "output_type": "display_data",
     "data": {
      "text/plain": "<IPython.core.display.HTML object>",
      "text/html": "<table><tr><td>[4,</td><td>8,</td><td>5,</td><td>3,</td><td>6,</td><td>1,</td><td>2,</td><td>9,</td><td>7]</td></tr></table>"
     },
     "metadata": {}
    },
    {
     "output_type": "display_data",
     "data": {
      "text/plain": "<IPython.core.display.HTML object>",
      "text/html": "<table><tr><td>[1,</td><td>3,</td><td>7,</td><td>5,</td><td>9,</td><td>2,</td><td>8,</td><td>4,</td><td>6]</td></tr></table>"
     },
     "metadata": {}
    },
    {
     "output_type": "display_data",
     "data": {
      "text/plain": "<IPython.core.display.HTML object>",
      "text/html": "<table><tr><td>[6,</td><td>9,</td><td>2,</td><td>8,</td><td>1,</td><td>7,</td><td>3,</td><td>4,</td><td>5]</td></tr></table>"
     },
     "metadata": {}
    },
    {
     "output_type": "display_data",
     "data": {
      "text/plain": "<IPython.core.display.HTML object>",
      "text/html": "<table><tr><td>[3,</td><td>7,</td><td>6,</td><td>2,</td><td>8,</td><td>9,</td><td>4,</td><td>5,</td><td>1]</td></tr></table>"
     },
     "metadata": {}
    },
    {
     "output_type": "display_data",
     "data": {
      "text/plain": "<IPython.core.display.HTML object>",
      "text/html": "<table><tr><td>[2,</td><td>1,</td><td>4,</td><td>3,</td><td>7,</td><td>5,</td><td>9,</td><td>6,</td><td>8]</td></tr></table>"
     },
     "metadata": {}
    },
    {
     "output_type": "display_data",
     "data": {
      "text/plain": "<IPython.core.display.HTML object>",
      "text/html": "<table><tr><td>[9,</td><td>5,</td><td>8,</td><td>1,</td><td>4,</td><td>6,</td><td>7,</td><td>3,</td><td>2]</td></tr></table>"
     },
     "metadata": {}
    },
    {
     "output_type": "display_data",
     "data": {
      "text/plain": "<IPython.core.display.HTML object>",
      "text/html": "<table><tr><td>[8,</td><td>6,</td><td>3,</td><td>1,</td><td>2,</td><td>4,</td><td>5,</td><td>7,</td><td>9]</td></tr></table>"
     },
     "metadata": {}
    },
    {
     "output_type": "display_data",
     "data": {
      "text/plain": "<IPython.core.display.HTML object>",
      "text/html": "<table><tr><td>[5,</td><td>2,</td><td>1,</td><td>9,</td><td>4,</td><td>3,</td><td>6,</td><td>8,</td><td>7]</td></tr></table>"
     },
     "metadata": {}
    },
    {
     "output_type": "display_data",
     "data": {
      "text/plain": "<IPython.core.display.HTML object>",
      "text/html": "<table><tr><td>[7,</td><td>4,</td><td>9,</td><td>6,</td><td>5,</td><td>8,</td><td>1,</td><td>2,</td><td>3]</td></tr></table>"
     },
     "metadata": {}
    },
    {
     "output_type": "stream",
     "name": "stdout",
     "text": [
      "\n"
     ]
    }
   ],
   "source": [
    "print_sudokus(sudokus_list)"
   ]
  },
  {
   "cell_type": "code",
   "execution_count": null,
   "metadata": {},
   "outputs": [],
   "source": []
  }
 ]
}